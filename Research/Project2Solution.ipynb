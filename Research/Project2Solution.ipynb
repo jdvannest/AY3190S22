{
 "cells": [
  {
   "cell_type": "code",
   "execution_count": 1,
   "id": "dd6ecfa7",
   "metadata": {},
   "outputs": [],
   "source": [
    "'''\n",
    "Written by Jordan Van Nest (jdvannest@ou.edu)\n",
    "April 2022, ASTR-3190\n",
    "'''\n",
    "import numpy as np\n",
    "from math import pi\n",
    "import matplotlib.pylab as plt\n",
    "%matplotlib inline"
   ]
  },
  {
   "cell_type": "code",
   "execution_count": 2,
   "id": "6eb70341",
   "metadata": {},
   "outputs": [],
   "source": [
    "#Read in the data and assign columns to np arrays\n",
    "ra,dec,run,Ar,u,g,r,i,z,uErr,gErr,rErr,iErr,zErr,pmL,pmB,pmErr = np.loadtxt('Astr511HW1data.dat.txt',unpack=True)"
   ]
  },
  {
   "cell_type": "code",
   "execution_count": 3,
   "id": "d705c4b4",
   "metadata": {},
   "outputs": [],
   "source": [
    "#Define Functions for finding M_r and Z\n",
    "\n",
    "#Bond et al. 2010 (ApJ,716,1)\n",
    "def Metallicity(x,y):\n",
    "    #x=(u-g)   y=(g-r)\n",
    "    assert len(x)==len(y), \"u-g and g-r arrays must be same size\"\n",
    "    #Define Metallicity array with default value of -0.6\n",
    "    Met = np.empty(len(x))\n",
    "    Met[:] = -.6\n",
    "    for i in np.arange(len(x)):\n",
    "        #If g-r<.6, perform the metallicity calculation and update array\n",
    "        if y[i]<.6:\n",
    "            Met[i] = ((-13.13) + (14.09)*x[i] + (28.04)*y[i] + \n",
    "                     (-5.51)*x[i]*y[i] + (-5.9)*x[i]**2 + \n",
    "                     (-58.68)*y[i]**2 + (9.14)*y[i]*x[i]**2 +\n",
    "                     (-20.61)*x[i]*y[i]**2 + (0)*x[i]**3 + \n",
    "                     (58.2)*y[i]**3)\n",
    "    return Met\n",
    "\n",
    "#Ivezic et al. 2008 (ApJ,684,287)\n",
    "#Ivezic A2\n",
    "def del_Mr(metallicity):\n",
    "    return(4.5 - 1.11*metallicity - 0.18*metallicity**2 )\n",
    "#Ivezic A7\n",
    "def Mr0(g_i):\n",
    "    return(-5.06 + 14.32*g_i - 12.97*g_i**2 +\n",
    "           6.127*g_i**3 - 1.267*g_i**4 + 0.0967*g_i**5)\n",
    "#Ivezic A3\n",
    "def Mr(g_i,u_g,g_r):\n",
    "    met = Metallicity(u_g,g_r)\n",
    "    return(Mr0(g_i) + del_Mr(met))\n",
    "\n",
    "\n",
    "def Z(r,Mr): #in units of pc\n",
    "    return(10**((r-Mr)/5+1))\n",
    "\n",
    "#math.stackexchange.com/questions/3032927/volume-inside-a-solid-solid-angle\n",
    "def Vol(z):\n",
    "    return((z**3/3)*(314*(pi/180)**2))\n",
    "def DiffVol(z,dz):\n",
    "    return((314*(pi/180)**2)*(z**2)*dz)"
   ]
  },
  {
   "cell_type": "code",
   "execution_count": 4,
   "id": "80a2668f",
   "metadata": {},
   "outputs": [],
   "source": [
    "#Create arrays of Mr and Z values\n",
    "mr = Mr(g-i,u-g,g-r)\n",
    "z = Z(r,mr)"
   ]
  },
  {
   "cell_type": "markdown",
   "id": "277d6176",
   "metadata": {},
   "source": [
    "## Problem 1"
   ]
  },
  {
   "cell_type": "code",
   "execution_count": 65,
   "id": "d1b9baab",
   "metadata": {},
   "outputs": [],
   "source": [
    "#Define a function to calculate the ln(rho) profile for\n",
    "#a given color range\n",
    "def log_rho(z,g_r,min_color,max_color):\n",
    "    #Pull out Z-values associated with stars in color range\n",
    "    g_r_low_mask = g_r[g_r < max_color]\n",
    "    Z_low_mask   = z[g_r < max_color]\n",
    "    Z_masked     = Z_low_mask[g_r_low_mask > min_color]\n",
    "    \n",
    "    #Convert Z_masked to kpc\n",
    "    Z_masked = Z_masked/1000\n",
    "\n",
    "    #Create Z-bins and arrays to be plotted\n",
    "    Z_bins = np.linspace(0,100,101)\n",
    "    Z_axis = np.arange(max(Z_bins))+.5\n",
    "    N,V    = [np.zeros(len(Z_axis)),np.zeros(len(Z_axis))]\n",
    "    \n",
    "    #Calculate Numbers and Volumes in each Z-bin\n",
    "    for i in np.arange(len(Z_axis)):\n",
    "        N[i] = len(Z_masked[(Z_masked > Z_bins[i]) & \n",
    "                            (Z_masked < Z_bins[i+1])])\n",
    "        V[i] = Vol(Z_bins[i+1]) - Vol(Z_bins[i])\n",
    "    \n",
    "    #Remove any 0's for N before calculating NatLog\n",
    "    N[N==0] = np.NaN\n",
    "    \n",
    "    return(Z_axis,np.log(N/V))"
   ]
  },
  {
   "cell_type": "code",
   "execution_count": 58,
   "id": "6c165eaf",
   "metadata": {},
   "outputs": [],
   "source": [
    "#Define a function to calculate the ln(rho) profile for\n",
    "#a given color range\n",
    "def log_rho_Nicole(z,g_r,min_color,max_color):\n",
    "    #Pull out Z-values associated with stars in color range\n",
    "    g_r_low_mask = g_r[g_r < max_color]\n",
    "    Z_low_mask   = z[g_r < max_color]\n",
    "    Z_masked     = Z_low_mask[g_r_low_mask > min_color]\n",
    "    \n",
    "    #Convert Z_masked to kpc\n",
    "    Z_masked = Z_masked/1000\n",
    "    \n",
    "    #Create Z-bins and arrays to be plotted\n",
    "    Z_bins = np.linspace(0,max(Z_masked),101)\n",
    "    Z_axis = np.arange(max(Z_bins))+.5\n",
    "    N,V    = [np.zeros(len(Z_axis)),np.zeros(len(Z_axis))]\n",
    "    \n",
    "    Z_step,dZ = 0,Z_bins[1]-Z_bins[0]\n",
    "    #Calculate Numbers and Volumes in each Z-bin\n",
    "    for i in np.arange(len(Z_axis)):\n",
    "        if i==0:\n",
    "            Z_step = Z_step + dZ\n",
    "            dV_0   = (314*0.000304617)*(Z_step**2)*dZ\n",
    "            dN_0   = len(Z_masked[Z_masked<Z_step])\n",
    "            \n",
    "            N[i] = dN_0\n",
    "            V[i] = dV_0\n",
    "        else:\n",
    "            Z_step = Z_step + dZ\n",
    "            dV_new = (314*0.000304617)*(Z_step**2)*dZ\n",
    "            dN_new = len(Z_masked[Z_masked<Z_step])\n",
    "            \n",
    "            N[i] = dN_new - dN_0\n",
    "            V[i] = dV_new - dV_0\n",
    "            \n",
    "            dN_0 = dN_new\n",
    "            dV_0 = dV_new\n",
    "    \n",
    "    #Remove any 0's for N before calculating NatLog\n",
    "    N[N==0] = np.NaN\n",
    "    V[V==0] = np.NaN\n",
    "    \n",
    "    return(Z_axis,np.log(N/V))"
   ]
  },
  {
   "cell_type": "code",
   "execution_count": 63,
   "id": "d12124e3",
   "metadata": {},
   "outputs": [],
   "source": [
    "#Perform ln(rho) calculation for .2 < g-r < .4\n",
    "z_axis,rho = log_rho(z,g-r,.2,.4)\n",
    "#z_axis,rho = log_rho_Nicole(z,g-r,.2,.4)"
   ]
  },
  {
   "cell_type": "code",
   "execution_count": 64,
   "id": "bc8a2f17",
   "metadata": {},
   "outputs": [
    {
     "data": {
      "image/png": "[encoded data removed]",
      "text/plain": [
       "<Figure size 432x288 with 1 Axes>"
      ]
     },
     "metadata": {
      "needs_background": "light"
     },
     "output_type": "display_data"
    }
   ],
   "source": [
    "#Plot the results for .2 < g-r < .4\n",
    "f,ax = plt.subplots(1,1,figsize=(6,4))\n",
    "ax.set_xlim([0,max(z_axis)])\n",
    "ax.set_xlabel('Z [kpc]',fontsize=15)\n",
    "ax.set_ylabel(r'ln($\\rho$)',fontsize=15)\n",
    "\n",
    "ax.plot(z_axis,rho,c='k')\n",
    "\n",
    "plt.show()"
   ]
  },
  {
   "cell_type": "markdown",
   "id": "0bd017e5",
   "metadata": {},
   "source": [
    "Discussion..."
   ]
  },
  {
   "cell_type": "markdown",
   "id": "f558ee8b",
   "metadata": {},
   "source": [
    "## Problem 2"
   ]
  },
  {
   "cell_type": "code",
   "execution_count": 10,
   "id": "a187b610",
   "metadata": {},
   "outputs": [],
   "source": [
    "#Repeat the process from Problem 1 for \n",
    "#new color ranges\n",
    "z0,rho0 = log_rho(z,g-r,.2,.4)\n",
    "z1,rho1 = log_rho(z,g-r,.4,.6)\n",
    "z2,rho2 = log_rho(z,g-r,.6,.8)\n",
    "z3,rho3 = log_rho(z,g-r,.8,1.)"
   ]
  },
  {
   "cell_type": "code",
   "execution_count": 11,
   "id": "02beba17",
   "metadata": {},
   "outputs": [
    {
     "data": {
      "image/png": "[encoded data removed]",
      "text/plain": [
       "<Figure size 432x288 with 1 Axes>"
      ]
     },
     "metadata": {
      "needs_background": "light"
     },
     "output_type": "display_data"
    }
   ],
   "source": [
    "f,ax = plt.subplots(1,1,figsize=(6,4))\n",
    "ax.set_xlim([0,max([max(z0),max(z1),max(z2),max(z3)])])\n",
    "ax.set_xlabel('Z [kpc]',fontsize=15)\n",
    "ax.set_ylabel(r'ln($\\rho$)',fontsize=15)\n",
    "\n",
    "ax.plot(z0,rho0,c='k',label=r'$.2<g-r<.4$')\n",
    "ax.plot(z1,rho1,c='b',label=r'$.4<g-r<.6$')\n",
    "ax.plot(z2,rho2,c='r',label=r'$.6<g-r<.8$')\n",
    "ax.plot(z3,rho3,c='g',label=r'$.8<g-r<1.0$')\n",
    "\n",
    "ax.legend(loc='upper right',prop={'size':15})\n",
    "plt.show()"
   ]
  },
  {
   "cell_type": "markdown",
   "id": "b1bc0704",
   "metadata": {},
   "source": [
    "Discussion..."
   ]
  },
  {
   "cell_type": "markdown",
   "id": "804fc10f",
   "metadata": {},
   "source": [
    "## Problem 3"
   ]
  },
  {
   "cell_type": "code",
   "execution_count": 12,
   "id": "211cce29",
   "metadata": {},
   "outputs": [],
   "source": [
    "#Create Low-Met and High-Met Masks\n",
    "Low_Met = (Metallicity(u-g,g-r) < -1.)\n",
    "High_Met = (Metallicity(u-g,g-r) > -1.)"
   ]
  },
  {
   "cell_type": "code",
   "execution_count": 13,
   "id": "3124b4ae",
   "metadata": {},
   "outputs": [],
   "source": [
    "#Perform ln(rho) calculation on low and high-met subsamples\n",
    "z_low,rho_low = log_rho(z[Low_Met],(g-r)[Low_Met],.2,.4)\n",
    "z_high,rho_high = log_rho(z[High_Met],(g-r)[High_Met],.2,.4)"
   ]
  },
  {
   "cell_type": "code",
   "execution_count": 14,
   "id": "db16ea5a",
   "metadata": {},
   "outputs": [
    {
     "data": {
      "image/png": "[encoded data removed]",
      "text/plain": [
       "<Figure size 432x288 with 1 Axes>"
      ]
     },
     "metadata": {
      "needs_background": "light"
     },
     "output_type": "display_data"
    }
   ],
   "source": [
    "f,ax = plt.subplots(1,1,figsize=(6,4))\n",
    "ax.set_xlim([0,max(z_high)])\n",
    "ax.set_xlabel('Z [kpc]',fontsize=15)\n",
    "ax.set_ylabel(r'ln($\\rho$)',fontsize=15)\n",
    "\n",
    "ax.plot(z_low,rho_low,c='k',label=r'$[Fe/H]<-1$')\n",
    "ax.plot(z_high,rho_high,c='.5',label=r'$[Fe/H]>-1$')\n",
    "\n",
    "ax.legend(loc='upper right',prop={'size':15})\n",
    "plt.show()"
   ]
  },
  {
   "cell_type": "markdown",
   "id": "13878f8e",
   "metadata": {},
   "source": [
    "Discussion..."
   ]
  },
  {
   "cell_type": "markdown",
   "id": "4742c315",
   "metadata": {},
   "source": [
    "## Problem 4"
   ]
  },
  {
   "cell_type": "code",
   "execution_count": 15,
   "id": "03564491",
   "metadata": {},
   "outputs": [],
   "source": [
    "#Define a function to pull out Mr values of stars in\n",
    "#a given color range\n",
    "def Mr_subset(mr,g_r,min_color,max_color):\n",
    "    g_r_low_mask = g_r[g_r < max_color]\n",
    "    Mr_low_mask = mr[g_r < max_color]\n",
    "    Mr_masked = Mr_low_mask[g_r_low_mask > min_color]\n",
    "    \n",
    "    return(Mr_masked)"
   ]
  },
  {
   "cell_type": "code",
   "execution_count": 16,
   "id": "4026c810",
   "metadata": {},
   "outputs": [],
   "source": [
    "#Find the Mr values for the low and high-met subsets\n",
    "Mr_Low  = Mr_subset(mr[Low_Met],(g-r)[Low_Met],.2,.4)\n",
    "Mr_High = Mr_subset(mr[High_Met],(g-r)[High_Met],.2,.4)\n",
    "Mr_Tot  = Mr_subset(mr,(g-r),.2,.4)"
   ]
  },
  {
   "cell_type": "code",
   "execution_count": 17,
   "id": "80d6a4a0",
   "metadata": {},
   "outputs": [
    {
     "data": {
      "image/png": "[encoded data removed]",
      "text/plain": [
       "<Figure size 432x288 with 1 Axes>"
      ]
     },
     "metadata": {
      "needs_background": "light"
     },
     "output_type": "display_data"
    }
   ],
   "source": [
    "Mr_min  = min([min(Mr_Low),min(Mr_High)])\n",
    "Mr_max  = max([max(Mr_Low),max(Mr_High)])\n",
    "Mr_bins = np.arange((int(Mr_min*10)-1)/10,(int(Mr_max*10)+1)/10,.1)\n",
    "\n",
    "f,ax = plt.subplots(1,1,figsize=(6,4))\n",
    "ax.set_xlim([min(Mr_bins),max(Mr_bins)])\n",
    "ax.set_xlabel(r'M$_R$',fontsize=15)\n",
    "ax.set_ylabel('N',fontsize=15)\n",
    "\n",
    "ax.hist(Mr_Tot,Mr_bins,color='r',histtype='step',label='Total')\n",
    "ax.hist(Mr_Low,Mr_bins,color='k',histtype='step',label=r'$[Fe/H]<-1$')\n",
    "ax.hist(Mr_High,Mr_bins,color='.5',histtype='step',label=r'$[Fe/H]>-1$')\n",
    "\n",
    "ax.legend(loc='upper left',prop={'size':15})\n",
    "plt.show()"
   ]
  },
  {
   "cell_type": "markdown",
   "id": "3000a513",
   "metadata": {},
   "source": [
    "Discussion..."
   ]
  },
  {
   "cell_type": "markdown",
   "id": "2f68daaf",
   "metadata": {},
   "source": [
    "## Problem 5"
   ]
  },
  {
   "cell_type": "code",
   "execution_count": null,
   "id": "aa5844e6",
   "metadata": {},
   "outputs": [],
   "source": []
  }
 ],
 "metadata": {
  "kernelspec": {
   "display_name": "Python 3",
   "language": "python",
   "name": "python3"
  },
  "language_info": {
   "codemirror_mode": {
    "name": "ipython",
    "version": 3
   },
   "file_extension": ".py",
   "mimetype": "text/x-python",
   "name": "python",
   "nbconvert_exporter": "python",
   "pygments_lexer": "ipython3",
   "version": "3.7.9"
  }
 },
 "nbformat": 4,
 "nbformat_minor": 5
}
